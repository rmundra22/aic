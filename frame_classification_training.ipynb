{
 "cells": [
  {
   "cell_type": "code",
   "execution_count": 1,
   "id": "598b919c",
   "metadata": {
    "execution": {
     "iopub.execute_input": "2025-02-09T10:48:31.298592Z",
     "iopub.status.busy": "2025-02-09T10:48:31.298213Z",
     "iopub.status.idle": "2025-02-09T10:48:31.303116Z",
     "shell.execute_reply": "2025-02-09T10:48:31.302314Z"
    },
    "papermill": {
     "duration": 0.010211,
     "end_time": "2025-02-09T10:48:31.304351",
     "exception": false,
     "start_time": "2025-02-09T10:48:31.294140",
     "status": "completed"
    },
    "tags": []
   },
   "outputs": [],
   "source": [
    "# %cat /kaggle/working/frame_classification/src/config.py\n",
    "# !mv /kaggle/working/frame_classification/data/ /kaggle/working/"
   ]
  },
  {
   "cell_type": "code",
   "execution_count": 2,
   "id": "0ca71dcd",
   "metadata": {
    "execution": {
     "iopub.execute_input": "2025-02-09T10:48:31.310045Z",
     "iopub.status.busy": "2025-02-09T10:48:31.309807Z",
     "iopub.status.idle": "2025-02-09T10:48:31.312645Z",
     "shell.execute_reply": "2025-02-09T10:48:31.311916Z"
    },
    "papermill": {
     "duration": 0.007023,
     "end_time": "2025-02-09T10:48:31.314045",
     "exception": false,
     "start_time": "2025-02-09T10:48:31.307022",
     "status": "completed"
    },
    "tags": []
   },
   "outputs": [],
   "source": [
    "# %kaggle datasets download -d rmtrickster/sports-dataset-img/ -p data\n",
    "# %unzip data/sports-dataset-img.zip -d data/"
   ]
  },
  {
   "cell_type": "code",
   "execution_count": 3,
   "id": "9dc8fca1",
   "metadata": {
    "execution": {
     "iopub.execute_input": "2025-02-09T10:48:31.319244Z",
     "iopub.status.busy": "2025-02-09T10:48:31.319021Z",
     "iopub.status.idle": "2025-02-09T10:48:31.437293Z",
     "shell.execute_reply": "2025-02-09T10:48:31.436062Z"
    },
    "papermill": {
     "duration": 0.122727,
     "end_time": "2025-02-09T10:48:31.439055",
     "exception": false,
     "start_time": "2025-02-09T10:48:31.316328",
     "status": "completed"
    },
    "tags": []
   },
   "outputs": [],
   "source": [
    "%rm -rf frame_classification"
   ]
  },
  {
   "cell_type": "code",
   "execution_count": 4,
   "id": "00b2b8fe",
   "metadata": {
    "execution": {
     "iopub.execute_input": "2025-02-09T10:48:31.444746Z",
     "iopub.status.busy": "2025-02-09T10:48:31.444455Z",
     "iopub.status.idle": "2025-02-09T10:48:31.563269Z",
     "shell.execute_reply": "2025-02-09T10:48:31.562172Z"
    },
    "papermill": {
     "duration": 0.123479,
     "end_time": "2025-02-09T10:48:31.565004",
     "exception": false,
     "start_time": "2025-02-09T10:48:31.441525",
     "status": "completed"
    },
    "tags": []
   },
   "outputs": [
    {
     "name": "stdout",
     "output_type": "stream",
     "text": [
      "__notebook__.ipynb\r\n"
     ]
    }
   ],
   "source": [
    "%ls"
   ]
  },
  {
   "cell_type": "code",
   "execution_count": 5,
   "id": "f26612b2",
   "metadata": {
    "execution": {
     "iopub.execute_input": "2025-02-09T10:48:31.570793Z",
     "iopub.status.busy": "2025-02-09T10:48:31.570489Z",
     "iopub.status.idle": "2025-02-09T10:48:32.355451Z",
     "shell.execute_reply": "2025-02-09T10:48:32.354548Z"
    },
    "papermill": {
     "duration": 0.789475,
     "end_time": "2025-02-09T10:48:32.357075",
     "exception": false,
     "start_time": "2025-02-09T10:48:31.567600",
     "status": "completed"
    },
    "tags": []
   },
   "outputs": [
    {
     "name": "stdout",
     "output_type": "stream",
     "text": [
      "Cloning into 'frame_classification'...\r\n",
      "remote: Enumerating objects: 167, done.\u001b[K\r\n",
      "remote: Counting objects: 100% (167/167), done.\u001b[K\r\n",
      "remote: Compressing objects: 100% (109/109), done.\u001b[K\r\n",
      "remote: Total 167 (delta 106), reused 113 (delta 56), pack-reused 0 (from 0)\u001b[K\r\n",
      "Receiving objects: 100% (167/167), 72.79 KiB | 5.60 MiB/s, done.\r\n",
      "Resolving deltas: 100% (106/106), done.\r\n"
     ]
    }
   ],
   "source": [
    "!git clone https://github.com/rmundra22/frame_classification.git"
   ]
  },
  {
   "cell_type": "code",
   "execution_count": 6,
   "id": "99e3ddce",
   "metadata": {
    "execution": {
     "iopub.execute_input": "2025-02-09T10:48:32.363691Z",
     "iopub.status.busy": "2025-02-09T10:48:32.363392Z",
     "iopub.status.idle": "2025-02-09T10:48:32.480135Z",
     "shell.execute_reply": "2025-02-09T10:48:32.479260Z"
    },
    "papermill": {
     "duration": 0.121673,
     "end_time": "2025-02-09T10:48:32.481752",
     "exception": false,
     "start_time": "2025-02-09T10:48:32.360079",
     "status": "completed"
    },
    "tags": []
   },
   "outputs": [
    {
     "name": "stdout",
     "output_type": "stream",
     "text": [
      "\u001b[0m\u001b[01;34mframe_classification\u001b[0m/  __notebook__.ipynb\r\n"
     ]
    }
   ],
   "source": [
    "%ls"
   ]
  },
  {
   "cell_type": "code",
   "execution_count": 7,
   "id": "5017ad29",
   "metadata": {
    "execution": {
     "iopub.execute_input": "2025-02-09T10:48:32.488546Z",
     "iopub.status.busy": "2025-02-09T10:48:32.488236Z",
     "iopub.status.idle": "2025-02-09T10:48:54.008202Z",
     "shell.execute_reply": "2025-02-09T10:48:54.007063Z"
    },
    "papermill": {
     "duration": 21.525116,
     "end_time": "2025-02-09T10:48:54.009969",
     "exception": false,
     "start_time": "2025-02-09T10:48:32.484853",
     "status": "completed"
    },
    "tags": []
   },
   "outputs": [
    {
     "name": "stdout",
     "output_type": "stream",
     "text": [
      "2025-02-09 10:48:41.510539: E external/local_xla/xla/stream_executor/cuda/cuda_fft.cc:485] Unable to register cuFFT factory: Attempting to register factory for plugin cuFFT when one has already been registered\r\n",
      "2025-02-09 10:48:41.696411: E external/local_xla/xla/stream_executor/cuda/cuda_dnn.cc:8454] Unable to register cuDNN factory: Attempting to register factory for plugin cuDNN when one has already been registered\r\n",
      "2025-02-09 10:48:41.747812: E external/local_xla/xla/stream_executor/cuda/cuda_blas.cc:1452] Unable to register cuBLAS factory: Attempting to register factory for plugin cuBLAS when one has already been registered\r\n",
      "Traceback (most recent call last):\r\n",
      "  File \"/kaggle/working/frame_classification/src/train.py\", line 292, in <module>\r\n",
      "    main()\r\n",
      "  File \"/kaggle/working/frame_classification/src/train.py\", line 129, in main\r\n",
      "    global_dataset = ImageFolder(root=Config.DATA_PATH_TRAIN, transform=transform_train)\r\n",
      "  File \"/usr/local/lib/python3.10/dist-packages/torchvision/datasets/folder.py\", line 328, in __init__\r\n",
      "    super().__init__(\r\n",
      "  File \"/usr/local/lib/python3.10/dist-packages/torchvision/datasets/folder.py\", line 149, in __init__\r\n",
      "    classes, class_to_idx = self.find_classes(self.root)\r\n",
      "  File \"/usr/local/lib/python3.10/dist-packages/torchvision/datasets/folder.py\", line 234, in find_classes\r\n",
      "    return find_classes(directory)\r\n",
      "  File \"/usr/local/lib/python3.10/dist-packages/torchvision/datasets/folder.py\", line 41, in find_classes\r\n",
      "    classes = sorted(entry.name for entry in os.scandir(directory) if entry.is_dir())\r\n",
      "FileNotFoundError: [Errno 2] No such file or directory: '/kaggle/working/data/assignment/train'\r\n"
     ]
    }
   ],
   "source": [
    "!python /kaggle/working/frame_classification/src/train.py"
   ]
  },
  {
   "cell_type": "markdown",
   "id": "83eb850a",
   "metadata": {
    "papermill": {
     "duration": 0.002746,
     "end_time": "2025-02-09T10:48:54.015953",
     "exception": false,
     "start_time": "2025-02-09T10:48:54.013207",
     "status": "completed"
    },
    "tags": []
   },
   "source": [
    "## Experimental Setup\n",
    "\n",
    "> Dataset Details\n",
    "\n",
    "* Training Dataset ~25k Images\n",
    "* Test Dataset ~500 Images\n",
    "\n",
    "> Hyperparameters\n",
    "* BATCH_SIZE = 32\n",
    "* LEARNING_RATE = 1e-4\n",
    "* NUM_EPOCHS = 15\n",
    "* DEVICE = \"cuda\" if torch.cuda.is_available() else \"cpu\"\n",
    "* LR_STEP_SIZE = 1\n",
    "* LR_GAMMA = 0.9\n",
    "* NUM_WORKERS = 12\n",
    "\n",
    "> Experiments\n",
    "1. 40% training data, data-augmentation, early-stop-activated, cnn-deep with cross-entropy loss\n",
    "2. 40% training data, data-augmentation, early-stop-activated, cnn-deep with cross-entropy loss\n",
    "3. 40% training data, data-augmentation, early-stop-activated, cnn-deep-with-se with cross-entropy loss\n",
    "4. 100% training data, data-augmentation, early-stop-activated, cnn-deep with cross-entropy loss"
   ]
  },
  {
   "cell_type": "code",
   "execution_count": 8,
   "id": "b176beda",
   "metadata": {
    "execution": {
     "iopub.execute_input": "2025-02-09T10:48:54.022530Z",
     "iopub.status.busy": "2025-02-09T10:48:54.022281Z",
     "iopub.status.idle": "2025-02-09T10:48:54.139127Z",
     "shell.execute_reply": "2025-02-09T10:48:54.138071Z"
    },
    "papermill": {
     "duration": 0.121782,
     "end_time": "2025-02-09T10:48:54.140575",
     "exception": false,
     "start_time": "2025-02-09T10:48:54.018793",
     "status": "completed"
    },
    "tags": []
   },
   "outputs": [
    {
     "name": "stdout",
     "output_type": "stream",
     "text": [
      "\u001b[0m\u001b[01;34mframe_classification\u001b[0m/  __notebook__.ipynb\r\n"
     ]
    }
   ],
   "source": [
    "%ls"
   ]
  },
  {
   "cell_type": "code",
   "execution_count": 9,
   "id": "d53e6608",
   "metadata": {
    "execution": {
     "iopub.execute_input": "2025-02-09T10:48:54.147564Z",
     "iopub.status.busy": "2025-02-09T10:48:54.147316Z",
     "iopub.status.idle": "2025-02-09T10:48:54.154344Z",
     "shell.execute_reply": "2025-02-09T10:48:54.153724Z"
    },
    "papermill": {
     "duration": 0.011834,
     "end_time": "2025-02-09T10:48:54.155532",
     "exception": false,
     "start_time": "2025-02-09T10:48:54.143698",
     "status": "completed"
    },
    "tags": []
   },
   "outputs": [
    {
     "data": {
      "text/html": [
       "<a href='/kaggle/working/saved_models.zip' target='_blank'>/kaggle/working/saved_models.zip</a><br>"
      ],
      "text/plain": [
       "/kaggle/working/saved_models.zip"
      ]
     },
     "execution_count": 9,
     "metadata": {},
     "output_type": "execute_result"
    }
   ],
   "source": [
    "import os\n",
    "import shutil\n",
    "from IPython.display import FileLink\n",
    "\n",
    "folders = [\"saved_models\", \"runs\"]#, \"artifacts\"]\n",
    "\n",
    "# for folder in folders:\n",
    "\n",
    "folder =folders[0]\n",
    "# Path to the folder you want to download\n",
    "folder_path = '/kaggle/working/'+folder\n",
    "\n",
    "# Zip the folder\n",
    "shutil.make_archive(folder_path, 'zip', folder_path)\n",
    "\n",
    "# Create a download link for the zip file\n",
    "FileLink('/kaggle/working/'+folder+'.zip')\n",
    "\n",
    "    # break"
   ]
  },
  {
   "cell_type": "code",
   "execution_count": null,
   "id": "eb6b2360",
   "metadata": {
    "papermill": {
     "duration": 0.002859,
     "end_time": "2025-02-09T10:48:54.161511",
     "exception": false,
     "start_time": "2025-02-09T10:48:54.158652",
     "status": "completed"
    },
    "tags": []
   },
   "outputs": [],
   "source": [
    "\n",
    "\n"
   ]
  }
 ],
 "metadata": {
  "kaggle": {
   "accelerator": "gpu",
   "dataSources": [],
   "dockerImageVersionId": 30887,
   "isGpuEnabled": true,
   "isInternetEnabled": true,
   "language": "python",
   "sourceType": "notebook"
  },
  "kernelspec": {
   "display_name": "Python 3",
   "language": "python",
   "name": "python3"
  },
  "language_info": {
   "codemirror_mode": {
    "name": "ipython",
    "version": 3
   },
   "file_extension": ".py",
   "mimetype": "text/x-python",
   "name": "python",
   "nbconvert_exporter": "python",
   "pygments_lexer": "ipython3",
   "version": "3.10.12"
  },
  "papermill": {
   "default_parameters": {},
   "duration": 25.81233,
   "end_time": "2025-02-09T10:48:54.480990",
   "environment_variables": {},
   "exception": null,
   "input_path": "__notebook__.ipynb",
   "output_path": "__notebook__.ipynb",
   "parameters": {},
   "start_time": "2025-02-09T10:48:28.668660",
   "version": "2.6.0"
  }
 },
 "nbformat": 4,
 "nbformat_minor": 5
}
