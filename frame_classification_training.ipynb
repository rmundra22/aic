{
 "cells": [
  {
   "cell_type": "code",
   "execution_count": 1,
   "id": "71e83553",
   "metadata": {
    "_cell_guid": "b1076dfc-b9ad-4769-8c92-a6c4dae69d19",
    "_uuid": "8f2839f25d086af736a60e9eeb907d3b93b6e0e5",
    "execution": {
     "iopub.execute_input": "2025-02-09T08:27:26.961691Z",
     "iopub.status.busy": "2025-02-09T08:27:26.961191Z",
     "iopub.status.idle": "2025-02-09T08:27:27.996591Z",
     "shell.execute_reply": "2025-02-09T08:27:27.995314Z"
    },
    "papermill": {
     "duration": 1.041587,
     "end_time": "2025-02-09T08:27:27.998611",
     "exception": false,
     "start_time": "2025-02-09T08:27:26.957024",
     "status": "completed"
    },
    "tags": []
   },
   "outputs": [],
   "source": [
    "# This Python 3 environment comes with many helpful analytics libraries installed\n",
    "# It is defined by the kaggle/python Docker image: https://github.com/kaggle/docker-python\n",
    "# For example, here's several helpful packages to load\n",
    "\n",
    "import numpy as np # linear algebra\n",
    "import pandas as pd # data processing, CSV file I/O (e.g. pd.read_csv)\n",
    "\n",
    "# Input data files are available in the read-only \"../input/\" directory\n",
    "# For example, running this (by clicking run or pressing Shift+Enter) will list all files under the input directory\n",
    "\n",
    "import os\n",
    "for dirname, _, filenames in os.walk('/kaggle/input'):\n",
    "    for filename in filenames:\n",
    "        print(os.path.join(dirname, filename))\n",
    "\n",
    "# You can write up to 20GB to the current directory (/kaggle/working/) that gets preserved as output when you create a version using \"Save & Run All\" \n",
    "# You can also write temporary files to /kaggle/temp/, but they won't be saved outside of the current session"
   ]
  },
  {
   "cell_type": "code",
   "execution_count": 2,
   "id": "2e490815",
   "metadata": {
    "execution": {
     "iopub.execute_input": "2025-02-09T08:27:28.005435Z",
     "iopub.status.busy": "2025-02-09T08:27:28.004829Z",
     "iopub.status.idle": "2025-02-09T08:27:28.130663Z",
     "shell.execute_reply": "2025-02-09T08:27:28.129222Z"
    },
    "papermill": {
     "duration": 0.131279,
     "end_time": "2025-02-09T08:27:28.132904",
     "exception": false,
     "start_time": "2025-02-09T08:27:28.001625",
     "status": "completed"
    },
    "tags": []
   },
   "outputs": [
    {
     "name": "stdout",
     "output_type": "stream",
     "text": [
      "__notebook__.ipynb\r\n"
     ]
    }
   ],
   "source": [
    "# %rm -rf frame_classification\n",
    "%ls"
   ]
  },
  {
   "cell_type": "code",
   "execution_count": 3,
   "id": "2c11a06c",
   "metadata": {
    "execution": {
     "iopub.execute_input": "2025-02-09T08:27:28.139368Z",
     "iopub.status.busy": "2025-02-09T08:27:28.138962Z",
     "iopub.status.idle": "2025-02-09T08:27:29.073559Z",
     "shell.execute_reply": "2025-02-09T08:27:29.072249Z"
    },
    "papermill": {
     "duration": 0.939946,
     "end_time": "2025-02-09T08:27:29.075466",
     "exception": false,
     "start_time": "2025-02-09T08:27:28.135520",
     "status": "completed"
    },
    "tags": []
   },
   "outputs": [
    {
     "name": "stdout",
     "output_type": "stream",
     "text": [
      "Cloning into 'frame_classification'...\r\n",
      "remote: Enumerating objects: 101, done.\u001b[K\r\n",
      "remote: Counting objects: 100% (101/101), done.\u001b[K\r\n",
      "remote: Compressing objects: 100% (66/66), done.\u001b[K\r\n",
      "remote: Total 101 (delta 57), reused 73 (delta 33), pack-reused 0 (from 0)\u001b[K\r\n",
      "Receiving objects: 100% (101/101), 66.81 KiB | 5.57 MiB/s, done.\r\n",
      "Resolving deltas: 100% (57/57), done.\r\n"
     ]
    }
   ],
   "source": [
    "!git clone https://github.com/rmundra22/frame_classification.git"
   ]
  },
  {
   "cell_type": "code",
   "execution_count": 4,
   "id": "4dfb6639",
   "metadata": {
    "execution": {
     "iopub.execute_input": "2025-02-09T08:27:29.082812Z",
     "iopub.status.busy": "2025-02-09T08:27:29.082467Z",
     "iopub.status.idle": "2025-02-09T08:27:29.086783Z",
     "shell.execute_reply": "2025-02-09T08:27:29.085552Z"
    },
    "papermill": {
     "duration": 0.010051,
     "end_time": "2025-02-09T08:27:29.088676",
     "exception": false,
     "start_time": "2025-02-09T08:27:29.078625",
     "status": "completed"
    },
    "tags": []
   },
   "outputs": [],
   "source": [
    "# %cat /kaggle/working/frame_classification/src/config.py\n",
    "# !mv /kaggle/working/frame_classification/data/ /kaggle/working/"
   ]
  },
  {
   "cell_type": "code",
   "execution_count": 5,
   "id": "1fdba841",
   "metadata": {
    "execution": {
     "iopub.execute_input": "2025-02-09T08:27:29.095606Z",
     "iopub.status.busy": "2025-02-09T08:27:29.095238Z",
     "iopub.status.idle": "2025-02-09T08:27:29.099085Z",
     "shell.execute_reply": "2025-02-09T08:27:29.098065Z"
    },
    "papermill": {
     "duration": 0.0091,
     "end_time": "2025-02-09T08:27:29.100725",
     "exception": false,
     "start_time": "2025-02-09T08:27:29.091625",
     "status": "completed"
    },
    "tags": []
   },
   "outputs": [],
   "source": [
    "# !kaggle datasets download -d rmtrickster/sports-dataset-img/ -p data\n",
    "# !unzip data/sports-dataset-img.zip -d data/"
   ]
  },
  {
   "cell_type": "code",
   "execution_count": 6,
   "id": "79ac5504",
   "metadata": {
    "execution": {
     "iopub.execute_input": "2025-02-09T08:27:29.107719Z",
     "iopub.status.busy": "2025-02-09T08:27:29.107361Z",
     "iopub.status.idle": "2025-02-09T08:27:59.164597Z",
     "shell.execute_reply": "2025-02-09T08:27:59.163342Z"
    },
    "papermill": {
     "duration": 30.062989,
     "end_time": "2025-02-09T08:27:59.166668",
     "exception": false,
     "start_time": "2025-02-09T08:27:29.103679",
     "status": "completed"
    },
    "tags": []
   },
   "outputs": [
    {
     "name": "stdout",
     "output_type": "stream",
     "text": [
      "2025-02-09 08:27:42.107968: E external/local_xla/xla/stream_executor/cuda/cuda_fft.cc:485] Unable to register cuFFT factory: Attempting to register factory for plugin cuFFT when one has already been registered\r\n",
      "2025-02-09 08:27:42.381436: E external/local_xla/xla/stream_executor/cuda/cuda_dnn.cc:8454] Unable to register cuDNN factory: Attempting to register factory for plugin cuDNN when one has already been registered\r\n",
      "2025-02-09 08:27:42.477974: E external/local_xla/xla/stream_executor/cuda/cuda_blas.cc:1452] Unable to register cuBLAS factory: Attempting to register factory for plugin cuBLAS when one has already been registered\r\n",
      "Traceback (most recent call last):\r\n",
      "  File \"/kaggle/working/frame_classification/src/train.py\", line 290, in <module>\r\n",
      "    main()\r\n",
      "  File \"/kaggle/working/frame_classification/src/train.py\", line 105, in main\r\n",
      "    global_dataset = ImageFolder(root=Config.DATA_PATH_TRAIN, transform=None)\r\n",
      "  File \"/usr/local/lib/python3.10/dist-packages/torchvision/datasets/folder.py\", line 328, in __init__\r\n",
      "    super().__init__(\r\n",
      "  File \"/usr/local/lib/python3.10/dist-packages/torchvision/datasets/folder.py\", line 149, in __init__\r\n",
      "    classes, class_to_idx = self.find_classes(self.root)\r\n",
      "  File \"/usr/local/lib/python3.10/dist-packages/torchvision/datasets/folder.py\", line 234, in find_classes\r\n",
      "    return find_classes(directory)\r\n",
      "  File \"/usr/local/lib/python3.10/dist-packages/torchvision/datasets/folder.py\", line 41, in find_classes\r\n",
      "    classes = sorted(entry.name for entry in os.scandir(directory) if entry.is_dir())\r\n",
      "FileNotFoundError: [Errno 2] No such file or directory: '/kaggle/working/data/assignment/train'\r\n"
     ]
    }
   ],
   "source": [
    "!python /kaggle/working/frame_classification/src/train.py"
   ]
  },
  {
   "cell_type": "code",
   "execution_count": null,
   "id": "19449da0",
   "metadata": {
    "papermill": {
     "duration": 0.002905,
     "end_time": "2025-02-09T08:27:59.172892",
     "exception": false,
     "start_time": "2025-02-09T08:27:59.169987",
     "status": "completed"
    },
    "tags": []
   },
   "outputs": [],
   "source": []
  }
 ],
 "metadata": {
  "kaggle": {
   "accelerator": "none",
   "dataSources": [],
   "dockerImageVersionId": 30886,
   "isGpuEnabled": false,
   "isInternetEnabled": true,
   "language": "python",
   "sourceType": "notebook"
  },
  "kernelspec": {
   "display_name": "Python 3",
   "language": "python",
   "name": "python3"
  },
  "language_info": {
   "codemirror_mode": {
    "name": "ipython",
    "version": 3
   },
   "file_extension": ".py",
   "mimetype": "text/x-python",
   "name": "python",
   "nbconvert_exporter": "python",
   "pygments_lexer": "ipython3",
   "version": "3.10.12"
  },
  "papermill": {
   "default_parameters": {},
   "duration": 35.772122,
   "end_time": "2025-02-09T08:27:59.797399",
   "environment_variables": {},
   "exception": null,
   "input_path": "__notebook__.ipynb",
   "output_path": "__notebook__.ipynb",
   "parameters": {},
   "start_time": "2025-02-09T08:27:24.025277",
   "version": "2.6.0"
  }
 },
 "nbformat": 4,
 "nbformat_minor": 5
}
