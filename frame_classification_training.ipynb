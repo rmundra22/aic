{
 "cells": [
  {
   "cell_type": "code",
   "execution_count": 1,
   "id": "0ad00b48",
   "metadata": {
    "_cell_guid": "b1076dfc-b9ad-4769-8c92-a6c4dae69d19",
    "_uuid": "8f2839f25d086af736a60e9eeb907d3b93b6e0e5",
    "execution": {
     "iopub.execute_input": "2025-02-09T07:40:15.844491Z",
     "iopub.status.busy": "2025-02-09T07:40:15.843963Z",
     "iopub.status.idle": "2025-02-09T07:40:16.805813Z",
     "shell.execute_reply": "2025-02-09T07:40:16.804560Z"
    },
    "papermill": {
     "duration": 0.967874,
     "end_time": "2025-02-09T07:40:16.807665",
     "exception": false,
     "start_time": "2025-02-09T07:40:15.839791",
     "status": "completed"
    },
    "tags": []
   },
   "outputs": [],
   "source": [
    "# This Python 3 environment comes with many helpful analytics libraries installed\n",
    "# It is defined by the kaggle/python Docker image: https://github.com/kaggle/docker-python\n",
    "# For example, here's several helpful packages to load\n",
    "\n",
    "import numpy as np # linear algebra\n",
    "import pandas as pd # data processing, CSV file I/O (e.g. pd.read_csv)\n",
    "\n",
    "# Input data files are available in the read-only \"../input/\" directory\n",
    "# For example, running this (by clicking run or pressing Shift+Enter) will list all files under the input directory\n",
    "\n",
    "import os\n",
    "for dirname, _, filenames in os.walk('/kaggle/input'):\n",
    "    for filename in filenames:\n",
    "        print(os.path.join(dirname, filename))\n",
    "\n",
    "# You can write up to 20GB to the current directory (/kaggle/working/) that gets preserved as output when you create a version using \"Save & Run All\" \n",
    "# You can also write temporary files to /kaggle/temp/, but they won't be saved outside of the current session"
   ]
  },
  {
   "cell_type": "code",
   "execution_count": 2,
   "id": "897b2268",
   "metadata": {
    "execution": {
     "iopub.execute_input": "2025-02-09T07:40:16.814595Z",
     "iopub.status.busy": "2025-02-09T07:40:16.814029Z",
     "iopub.status.idle": "2025-02-09T07:40:16.938202Z",
     "shell.execute_reply": "2025-02-09T07:40:16.936837Z"
    },
    "papermill": {
     "duration": 0.129625,
     "end_time": "2025-02-09T07:40:16.940274",
     "exception": false,
     "start_time": "2025-02-09T07:40:16.810649",
     "status": "completed"
    },
    "tags": []
   },
   "outputs": [
    {
     "name": "stdout",
     "output_type": "stream",
     "text": [
      "__notebook__.ipynb\r\n"
     ]
    }
   ],
   "source": [
    "# %rm -rf frame_classification\n",
    "%ls"
   ]
  },
  {
   "cell_type": "code",
   "execution_count": 3,
   "id": "10418594",
   "metadata": {
    "execution": {
     "iopub.execute_input": "2025-02-09T07:40:16.946774Z",
     "iopub.status.busy": "2025-02-09T07:40:16.946363Z",
     "iopub.status.idle": "2025-02-09T07:40:18.508078Z",
     "shell.execute_reply": "2025-02-09T07:40:18.506718Z"
    },
    "papermill": {
     "duration": 1.567284,
     "end_time": "2025-02-09T07:40:18.510227",
     "exception": false,
     "start_time": "2025-02-09T07:40:16.942943",
     "status": "completed"
    },
    "tags": []
   },
   "outputs": [
    {
     "name": "stdout",
     "output_type": "stream",
     "text": [
      "Cloning into 'frame_classification'...\r\n",
      "remote: Enumerating objects: 55, done.\u001b[K\r\n",
      "remote: Counting objects: 100% (55/55), done.\u001b[K\r\n",
      "remote: Compressing objects: 100% (35/35), done.\u001b[K\r\n",
      "remote: Total 55 (delta 22), reused 47 (delta 18), pack-reused 0 (from 0)\u001b[K\r\n",
      "Receiving objects: 100% (55/55), 62.64 KiB | 1.12 MiB/s, done.\r\n",
      "Resolving deltas: 100% (22/22), done.\r\n"
     ]
    }
   ],
   "source": [
    "!git clone https://github.com/rmundra22/frame_classification.git"
   ]
  },
  {
   "cell_type": "code",
   "execution_count": 4,
   "id": "6d1664c1",
   "metadata": {
    "execution": {
     "iopub.execute_input": "2025-02-09T07:40:18.518373Z",
     "iopub.status.busy": "2025-02-09T07:40:18.518017Z",
     "iopub.status.idle": "2025-02-09T07:40:18.522314Z",
     "shell.execute_reply": "2025-02-09T07:40:18.521317Z"
    },
    "papermill": {
     "duration": 0.009941,
     "end_time": "2025-02-09T07:40:18.524130",
     "exception": false,
     "start_time": "2025-02-09T07:40:18.514189",
     "status": "completed"
    },
    "tags": []
   },
   "outputs": [],
   "source": [
    "# %cat /kaggle/working/frame_classification/src/config.py\n",
    "# !mv /kaggle/working/frame_classification/data/ /kaggle/working/"
   ]
  },
  {
   "cell_type": "code",
   "execution_count": 5,
   "id": "093cd303",
   "metadata": {
    "execution": {
     "iopub.execute_input": "2025-02-09T07:40:18.531676Z",
     "iopub.status.busy": "2025-02-09T07:40:18.531144Z",
     "iopub.status.idle": "2025-02-09T07:40:18.535447Z",
     "shell.execute_reply": "2025-02-09T07:40:18.534407Z"
    },
    "papermill": {
     "duration": 0.009906,
     "end_time": "2025-02-09T07:40:18.537150",
     "exception": false,
     "start_time": "2025-02-09T07:40:18.527244",
     "status": "completed"
    },
    "tags": []
   },
   "outputs": [],
   "source": [
    "# !kaggle datasets download -d rmtrickster/sports-dataset-img/ -p data\n",
    "# !unzip data/sports-dataset-img.zip -d data/"
   ]
  },
  {
   "cell_type": "code",
   "execution_count": 6,
   "id": "bf522f8b",
   "metadata": {
    "execution": {
     "iopub.execute_input": "2025-02-09T07:40:18.544326Z",
     "iopub.status.busy": "2025-02-09T07:40:18.543996Z",
     "iopub.status.idle": "2025-02-09T07:40:46.292861Z",
     "shell.execute_reply": "2025-02-09T07:40:46.291465Z"
    },
    "papermill": {
     "duration": 27.754733,
     "end_time": "2025-02-09T07:40:46.294966",
     "exception": false,
     "start_time": "2025-02-09T07:40:18.540233",
     "status": "completed"
    },
    "tags": []
   },
   "outputs": [
    {
     "name": "stdout",
     "output_type": "stream",
     "text": [
      "2025-02-09 07:40:30.504450: E external/local_xla/xla/stream_executor/cuda/cuda_fft.cc:485] Unable to register cuFFT factory: Attempting to register factory for plugin cuFFT when one has already been registered\r\n",
      "2025-02-09 07:40:30.748935: E external/local_xla/xla/stream_executor/cuda/cuda_dnn.cc:8454] Unable to register cuDNN factory: Attempting to register factory for plugin cuDNN when one has already been registered\r\n",
      "2025-02-09 07:40:30.816562: E external/local_xla/xla/stream_executor/cuda/cuda_blas.cc:1452] Unable to register cuBLAS factory: Attempting to register factory for plugin cuBLAS when one has already been registered\r\n",
      "Traceback (most recent call last):\r\n",
      "  File \"/kaggle/working/frame_classification/src/train.py\", line 299, in <module>\r\n",
      "    main()\r\n",
      "  File \"/kaggle/working/frame_classification/src/train.py\", line 99, in main\r\n",
      "    global_dataset = ImageFolder(\r\n",
      "  File \"/usr/local/lib/python3.10/dist-packages/torchvision/datasets/folder.py\", line 328, in __init__\r\n",
      "    super().__init__(\r\n",
      "  File \"/usr/local/lib/python3.10/dist-packages/torchvision/datasets/folder.py\", line 149, in __init__\r\n",
      "    classes, class_to_idx = self.find_classes(self.root)\r\n",
      "  File \"/usr/local/lib/python3.10/dist-packages/torchvision/datasets/folder.py\", line 234, in find_classes\r\n",
      "    return find_classes(directory)\r\n",
      "  File \"/usr/local/lib/python3.10/dist-packages/torchvision/datasets/folder.py\", line 41, in find_classes\r\n",
      "    classes = sorted(entry.name for entry in os.scandir(directory) if entry.is_dir())\r\n",
      "FileNotFoundError: [Errno 2] No such file or directory: '/kaggle/working/data/assignment/train'\r\n"
     ]
    }
   ],
   "source": [
    "!python /kaggle/working/frame_classification/src/train.py"
   ]
  },
  {
   "cell_type": "code",
   "execution_count": null,
   "id": "ec98e8a6",
   "metadata": {
    "papermill": {
     "duration": 0.002888,
     "end_time": "2025-02-09T07:40:46.301122",
     "exception": false,
     "start_time": "2025-02-09T07:40:46.298234",
     "status": "completed"
    },
    "tags": []
   },
   "outputs": [],
   "source": []
  }
 ],
 "metadata": {
  "kaggle": {
   "accelerator": "none",
   "dataSources": [],
   "dockerImageVersionId": 30886,
   "isGpuEnabled": false,
   "isInternetEnabled": true,
   "language": "python",
   "sourceType": "notebook"
  },
  "kernelspec": {
   "display_name": "Python 3",
   "language": "python",
   "name": "python3"
  },
  "language_info": {
   "codemirror_mode": {
    "name": "ipython",
    "version": 3
   },
   "file_extension": ".py",
   "mimetype": "text/x-python",
   "name": "python",
   "nbconvert_exporter": "python",
   "pygments_lexer": "ipython3",
   "version": "3.10.12"
  },
  "papermill": {
   "default_parameters": {},
   "duration": 33.944493,
   "end_time": "2025-02-09T07:40:46.925461",
   "environment_variables": {},
   "exception": null,
   "input_path": "__notebook__.ipynb",
   "output_path": "__notebook__.ipynb",
   "parameters": {},
   "start_time": "2025-02-09T07:40:12.980968",
   "version": "2.6.0"
  }
 },
 "nbformat": 4,
 "nbformat_minor": 5
}
