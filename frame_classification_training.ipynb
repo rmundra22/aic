{
 "cells": [
  {
   "cell_type": "code",
   "execution_count": 1,
   "id": "683039d4",
   "metadata": {
    "execution": {
     "iopub.execute_input": "2025-02-09T17:21:08.792297Z",
     "iopub.status.busy": "2025-02-09T17:21:08.791955Z",
     "iopub.status.idle": "2025-02-09T17:21:08.796752Z",
     "shell.execute_reply": "2025-02-09T17:21:08.795841Z"
    },
    "papermill": {
     "duration": 0.010737,
     "end_time": "2025-02-09T17:21:08.798205",
     "exception": false,
     "start_time": "2025-02-09T17:21:08.787468",
     "status": "completed"
    },
    "tags": []
   },
   "outputs": [],
   "source": [
    "# %cat /kaggle/working/frame_classification/src/config.py\n",
    "# !mv /kaggle/working/frame_classification/data/ /kaggle/working/"
   ]
  },
  {
   "cell_type": "code",
   "execution_count": 2,
   "id": "8b2c25eb",
   "metadata": {
    "execution": {
     "iopub.execute_input": "2025-02-09T17:21:08.805333Z",
     "iopub.status.busy": "2025-02-09T17:21:08.805013Z",
     "iopub.status.idle": "2025-02-09T17:21:08.808918Z",
     "shell.execute_reply": "2025-02-09T17:21:08.807658Z"
    },
    "papermill": {
     "duration": 0.009143,
     "end_time": "2025-02-09T17:21:08.810695",
     "exception": false,
     "start_time": "2025-02-09T17:21:08.801552",
     "status": "completed"
    },
    "tags": []
   },
   "outputs": [],
   "source": [
    "# %kaggle datasets download -d rmtrickster/sports-dataset-img/ -p data\n",
    "# %unzip data/sports-dataset-img.zip -d data/"
   ]
  },
  {
   "cell_type": "code",
   "execution_count": 3,
   "id": "91e1ca2f",
   "metadata": {
    "execution": {
     "iopub.execute_input": "2025-02-09T17:21:08.818281Z",
     "iopub.status.busy": "2025-02-09T17:21:08.817927Z",
     "iopub.status.idle": "2025-02-09T17:21:08.937422Z",
     "shell.execute_reply": "2025-02-09T17:21:08.936043Z"
    },
    "papermill": {
     "duration": 0.125738,
     "end_time": "2025-02-09T17:21:08.939838",
     "exception": false,
     "start_time": "2025-02-09T17:21:08.814100",
     "status": "completed"
    },
    "tags": []
   },
   "outputs": [],
   "source": [
    "%rm -rf frame_classification"
   ]
  },
  {
   "cell_type": "code",
   "execution_count": 4,
   "id": "53c9d361",
   "metadata": {
    "execution": {
     "iopub.execute_input": "2025-02-09T17:21:08.947500Z",
     "iopub.status.busy": "2025-02-09T17:21:08.947143Z",
     "iopub.status.idle": "2025-02-09T17:21:09.070871Z",
     "shell.execute_reply": "2025-02-09T17:21:09.069498Z"
    },
    "papermill": {
     "duration": 0.13001,
     "end_time": "2025-02-09T17:21:09.073099",
     "exception": false,
     "start_time": "2025-02-09T17:21:08.943089",
     "status": "completed"
    },
    "tags": []
   },
   "outputs": [
    {
     "name": "stdout",
     "output_type": "stream",
     "text": [
      "__notebook__.ipynb\r\n"
     ]
    }
   ],
   "source": [
    "%ls"
   ]
  },
  {
   "cell_type": "code",
   "execution_count": 5,
   "id": "ac7f76b2",
   "metadata": {
    "execution": {
     "iopub.execute_input": "2025-02-09T17:21:09.081034Z",
     "iopub.status.busy": "2025-02-09T17:21:09.080568Z",
     "iopub.status.idle": "2025-02-09T17:21:10.366469Z",
     "shell.execute_reply": "2025-02-09T17:21:10.365026Z"
    },
    "papermill": {
     "duration": 1.292461,
     "end_time": "2025-02-09T17:21:10.368763",
     "exception": false,
     "start_time": "2025-02-09T17:21:09.076302",
     "status": "completed"
    },
    "tags": []
   },
   "outputs": [
    {
     "name": "stdout",
     "output_type": "stream",
     "text": [
      "Cloning into 'frame_classification'...\r\n",
      "remote: Enumerating objects: 279, done.\u001b[K\r\n",
      "remote: Counting objects: 100% (279/279), done.\u001b[K\r\n",
      "remote: Compressing objects: 100% (209/209), done.\u001b[K\r\n",
      "remote: Total 279 (delta 131), reused 212 (delta 68), pack-reused 0 (from 0)\u001b[K\r\n",
      "Receiving objects: 100% (279/279), 5.80 MiB | 32.60 MiB/s, done.\r\n",
      "Resolving deltas: 100% (131/131), done.\r\n"
     ]
    }
   ],
   "source": [
    "!git clone https://github.com/rmundra22/frame_classification.git"
   ]
  },
  {
   "cell_type": "code",
   "execution_count": 6,
   "id": "47035762",
   "metadata": {
    "execution": {
     "iopub.execute_input": "2025-02-09T17:21:10.378022Z",
     "iopub.status.busy": "2025-02-09T17:21:10.377668Z",
     "iopub.status.idle": "2025-02-09T17:21:10.500619Z",
     "shell.execute_reply": "2025-02-09T17:21:10.499244Z"
    },
    "papermill": {
     "duration": 0.13009,
     "end_time": "2025-02-09T17:21:10.502929",
     "exception": false,
     "start_time": "2025-02-09T17:21:10.372839",
     "status": "completed"
    },
    "tags": []
   },
   "outputs": [
    {
     "name": "stdout",
     "output_type": "stream",
     "text": [
      "\u001b[0m\u001b[01;34mframe_classification\u001b[0m/  __notebook__.ipynb\r\n"
     ]
    }
   ],
   "source": [
    "%ls"
   ]
  },
  {
   "cell_type": "code",
   "execution_count": 7,
   "id": "5c68d519",
   "metadata": {
    "execution": {
     "iopub.execute_input": "2025-02-09T17:21:10.513270Z",
     "iopub.status.busy": "2025-02-09T17:21:10.512915Z",
     "iopub.status.idle": "2025-02-09T17:21:39.252128Z",
     "shell.execute_reply": "2025-02-09T17:21:39.250626Z"
    },
    "papermill": {
     "duration": 28.746791,
     "end_time": "2025-02-09T17:21:39.254296",
     "exception": false,
     "start_time": "2025-02-09T17:21:10.507505",
     "status": "completed"
    },
    "tags": []
   },
   "outputs": [
    {
     "name": "stdout",
     "output_type": "stream",
     "text": [
      "2025-02-09 17:21:22.735962: E external/local_xla/xla/stream_executor/cuda/cuda_fft.cc:485] Unable to register cuFFT factory: Attempting to register factory for plugin cuFFT when one has already been registered\r\n",
      "2025-02-09 17:21:22.988914: E external/local_xla/xla/stream_executor/cuda/cuda_dnn.cc:8454] Unable to register cuDNN factory: Attempting to register factory for plugin cuDNN when one has already been registered\r\n",
      "2025-02-09 17:21:23.059675: E external/local_xla/xla/stream_executor/cuda/cuda_blas.cc:1452] Unable to register cuBLAS factory: Attempting to register factory for plugin cuBLAS when one has already been registered\r\n",
      "Traceback (most recent call last):\r\n",
      "  File \"/kaggle/working/frame_classification/src/train.py\", line 292, in <module>\r\n",
      "    main()\r\n",
      "  File \"/kaggle/working/frame_classification/src/train.py\", line 129, in main\r\n",
      "    global_dataset = ImageFolder(root=Config.DATA_PATH_TRAIN, transform=transform_train)\r\n",
      "  File \"/usr/local/lib/python3.10/dist-packages/torchvision/datasets/folder.py\", line 328, in __init__\r\n",
      "    super().__init__(\r\n",
      "  File \"/usr/local/lib/python3.10/dist-packages/torchvision/datasets/folder.py\", line 149, in __init__\r\n",
      "    classes, class_to_idx = self.find_classes(self.root)\r\n",
      "  File \"/usr/local/lib/python3.10/dist-packages/torchvision/datasets/folder.py\", line 234, in find_classes\r\n",
      "    return find_classes(directory)\r\n",
      "  File \"/usr/local/lib/python3.10/dist-packages/torchvision/datasets/folder.py\", line 41, in find_classes\r\n",
      "    classes = sorted(entry.name for entry in os.scandir(directory) if entry.is_dir())\r\n",
      "FileNotFoundError: [Errno 2] No such file or directory: '/kaggle/working/data/assignment/train'\r\n"
     ]
    }
   ],
   "source": [
    "!python /kaggle/working/frame_classification/src/train.py"
   ]
  },
  {
   "cell_type": "markdown",
   "id": "b3ca1749",
   "metadata": {
    "papermill": {
     "duration": 0.004193,
     "end_time": "2025-02-09T17:21:39.263187",
     "exception": false,
     "start_time": "2025-02-09T17:21:39.258994",
     "status": "completed"
    },
    "tags": []
   },
   "source": [
    "## Experimental Setup\n",
    "\n",
    "> Dataset Details\n",
    "\n",
    "* Training Dataset ~25k Images\n",
    "* Test Dataset ~500 Images\n",
    "\n",
    "> Hyperparameters\n",
    "* BATCH_SIZE = 32\n",
    "* LEARNING_RATE = 1e-4\n",
    "* NUM_EPOCHS = 15\n",
    "* DEVICE = \"cuda\" if torch.cuda.is_available() else \"cpu\"\n",
    "* LR_STEP_SIZE = 1\n",
    "* LR_GAMMA = 0.9\n",
    "* NUM_WORKERS = 12\n",
    "\n",
    "> Experiments\n",
    "1. 40% training data, data-augmentation, early-stop-activated, cnn-deep with cross-entropy loss\n",
    "2. 40% training data, data-augmentation, early-stop-activated, cnn-deep with cross-entropy loss\n",
    "3. 40% training data, data-augmentation, early-stop-activated, cnn-deep-with-se with cross-entropy loss\n",
    "4. 100% training data, data-augmentation, early-stop-activated, cnn-deep with cross-entropy loss"
   ]
  },
  {
   "cell_type": "code",
   "execution_count": 8,
   "id": "47cc2c1e",
   "metadata": {
    "execution": {
     "iopub.execute_input": "2025-02-09T17:21:39.273021Z",
     "iopub.status.busy": "2025-02-09T17:21:39.272694Z",
     "iopub.status.idle": "2025-02-09T17:21:46.912313Z",
     "shell.execute_reply": "2025-02-09T17:21:46.910875Z"
    },
    "papermill": {
     "duration": 7.646933,
     "end_time": "2025-02-09T17:21:46.914365",
     "exception": false,
     "start_time": "2025-02-09T17:21:39.267432",
     "status": "completed"
    },
    "tags": []
   },
   "outputs": [
    {
     "name": "stdout",
     "output_type": "stream",
     "text": [
      "Traceback (most recent call last):\r\n",
      "  File \"/kaggle/working/frame_classification/src/test.py\", line 181, in <module>\r\n",
      "    main()\r\n",
      "  File \"/kaggle/working/frame_classification/src/test.py\", line 177, in main\r\n",
      "    results = test(args)\r\n",
      "  File \"/kaggle/working/frame_classification/src/test.py\", line 36, in test\r\n",
      "    test_dataset = ImageFolder(\r\n",
      "  File \"/usr/local/lib/python3.10/dist-packages/torchvision/datasets/folder.py\", line 328, in __init__\r\n",
      "    super().__init__(\r\n",
      "  File \"/usr/local/lib/python3.10/dist-packages/torchvision/datasets/folder.py\", line 149, in __init__\r\n",
      "    classes, class_to_idx = self.find_classes(self.root)\r\n",
      "  File \"/usr/local/lib/python3.10/dist-packages/torchvision/datasets/folder.py\", line 234, in find_classes\r\n",
      "    return find_classes(directory)\r\n",
      "  File \"/usr/local/lib/python3.10/dist-packages/torchvision/datasets/folder.py\", line 41, in find_classes\r\n",
      "    classes = sorted(entry.name for entry in os.scandir(directory) if entry.is_dir())\r\n",
      "FileNotFoundError: [Errno 2] No such file or directory: '/kaggle/working/data/assignment/test/'\r\n"
     ]
    }
   ],
   "source": [
    "!python /kaggle/working/frame_classification/src/test.py --model_path \"/kaggle/working/saved_models/best_model_cnndeepwithcse.pth\""
   ]
  },
  {
   "cell_type": "code",
   "execution_count": 9,
   "id": "f7c3ed06",
   "metadata": {
    "execution": {
     "iopub.execute_input": "2025-02-09T17:21:46.924952Z",
     "iopub.status.busy": "2025-02-09T17:21:46.924563Z",
     "iopub.status.idle": "2025-02-09T17:21:47.051018Z",
     "shell.execute_reply": "2025-02-09T17:21:47.049843Z"
    },
    "papermill": {
     "duration": 0.134394,
     "end_time": "2025-02-09T17:21:47.053020",
     "exception": false,
     "start_time": "2025-02-09T17:21:46.918626",
     "status": "completed"
    },
    "tags": []
   },
   "outputs": [
    {
     "name": "stdout",
     "output_type": "stream",
     "text": [
      "\tzip warning: name not matched: /kaggle/working/runs\r\n",
      "\r\n",
      "zip error: Nothing to do! (try: zip -r runs_cnn_deep_with_cse_100p.zip . -i /kaggle/working/runs)\r\n"
     ]
    }
   ],
   "source": [
    "!zip -r runs_cnn_deep_with_cse_100p.zip /kaggle/working/runs\n",
    "# !zip -r runs_cnn_deep_100p.zip /kaggle/working/artifacts\n",
    "# !zip -r runs_cnn_deep_100p.zip /kaggle/working/saved_models"
   ]
  },
  {
   "cell_type": "code",
   "execution_count": 10,
   "id": "826ab8af",
   "metadata": {
    "execution": {
     "iopub.execute_input": "2025-02-09T17:21:47.063163Z",
     "iopub.status.busy": "2025-02-09T17:21:47.062766Z",
     "iopub.status.idle": "2025-02-09T17:21:47.069890Z",
     "shell.execute_reply": "2025-02-09T17:21:47.068889Z"
    },
    "papermill": {
     "duration": 0.014255,
     "end_time": "2025-02-09T17:21:47.071584",
     "exception": false,
     "start_time": "2025-02-09T17:21:47.057329",
     "status": "completed"
    },
    "tags": []
   },
   "outputs": [
    {
     "name": "stdout",
     "output_type": "stream",
     "text": [
      "/root\n"
     ]
    }
   ],
   "source": [
    "%cd "
   ]
  }
 ],
 "metadata": {
  "kaggle": {
   "accelerator": "none",
   "dataSources": [],
   "dockerImageVersionId": 30886,
   "isGpuEnabled": false,
   "isInternetEnabled": true,
   "language": "python",
   "sourceType": "notebook"
  },
  "kernelspec": {
   "display_name": "Python 3",
   "language": "python",
   "name": "python3"
  },
  "language_info": {
   "codemirror_mode": {
    "name": "ipython",
    "version": 3
   },
   "file_extension": ".py",
   "mimetype": "text/x-python",
   "name": "python",
   "nbconvert_exporter": "python",
   "pygments_lexer": "ipython3",
   "version": "3.10.12"
  },
  "papermill": {
   "default_parameters": {},
   "duration": 41.594416,
   "end_time": "2025-02-09T17:21:47.595098",
   "environment_variables": {},
   "exception": null,
   "input_path": "__notebook__.ipynb",
   "output_path": "__notebook__.ipynb",
   "parameters": {},
   "start_time": "2025-02-09T17:21:06.000682",
   "version": "2.6.0"
  }
 },
 "nbformat": 4,
 "nbformat_minor": 5
}
