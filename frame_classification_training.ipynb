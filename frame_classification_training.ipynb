{
 "cells": [
  {
   "cell_type": "code",
   "execution_count": 1,
   "id": "2e2b8ba7",
   "metadata": {
    "execution": {
     "iopub.execute_input": "2025-02-11T16:07:22.876416Z",
     "iopub.status.busy": "2025-02-11T16:07:22.876077Z",
     "iopub.status.idle": "2025-02-11T16:07:22.880689Z",
     "shell.execute_reply": "2025-02-11T16:07:22.879912Z"
    },
    "papermill": {
     "duration": 0.011196,
     "end_time": "2025-02-11T16:07:22.882210",
     "exception": false,
     "start_time": "2025-02-11T16:07:22.871014",
     "status": "completed"
    },
    "tags": []
   },
   "outputs": [],
   "source": [
    "# %cat /kaggle/working/frame_classification/src/config.py\n",
    "# !mv /kaggle/working/frame_classification/data/ /kaggle/working/"
   ]
  },
  {
   "cell_type": "code",
   "execution_count": 2,
   "id": "f6ab968b",
   "metadata": {
    "execution": {
     "iopub.execute_input": "2025-02-11T16:07:22.889331Z",
     "iopub.status.busy": "2025-02-11T16:07:22.889052Z",
     "iopub.status.idle": "2025-02-11T16:07:22.892024Z",
     "shell.execute_reply": "2025-02-11T16:07:22.891291Z"
    },
    "papermill": {
     "duration": 0.00788,
     "end_time": "2025-02-11T16:07:22.893424",
     "exception": false,
     "start_time": "2025-02-11T16:07:22.885544",
     "status": "completed"
    },
    "tags": []
   },
   "outputs": [],
   "source": [
    "# %kaggle datasets download -d rmtrickster/sports-dataset-img/ -p data\n",
    "# %unzip data/sports-dataset-img.zip -d data/"
   ]
  },
  {
   "cell_type": "code",
   "execution_count": 3,
   "id": "bc9304a9",
   "metadata": {
    "execution": {
     "iopub.execute_input": "2025-02-11T16:07:22.899876Z",
     "iopub.status.busy": "2025-02-11T16:07:22.899590Z",
     "iopub.status.idle": "2025-02-11T16:07:23.016399Z",
     "shell.execute_reply": "2025-02-11T16:07:23.015071Z"
    },
    "papermill": {
     "duration": 0.121941,
     "end_time": "2025-02-11T16:07:23.018217",
     "exception": false,
     "start_time": "2025-02-11T16:07:22.896276",
     "status": "completed"
    },
    "tags": []
   },
   "outputs": [],
   "source": [
    "%rm -rf frame_classification"
   ]
  },
  {
   "cell_type": "code",
   "execution_count": 4,
   "id": "11bce247",
   "metadata": {
    "execution": {
     "iopub.execute_input": "2025-02-11T16:07:23.025271Z",
     "iopub.status.busy": "2025-02-11T16:07:23.024942Z",
     "iopub.status.idle": "2025-02-11T16:07:23.143621Z",
     "shell.execute_reply": "2025-02-11T16:07:23.142460Z"
    },
    "papermill": {
     "duration": 0.124187,
     "end_time": "2025-02-11T16:07:23.145460",
     "exception": false,
     "start_time": "2025-02-11T16:07:23.021273",
     "status": "completed"
    },
    "tags": []
   },
   "outputs": [
    {
     "name": "stdout",
     "output_type": "stream",
     "text": [
      "__notebook__.ipynb\r\n"
     ]
    }
   ],
   "source": [
    "%ls"
   ]
  },
  {
   "cell_type": "code",
   "execution_count": 5,
   "id": "671e3583",
   "metadata": {
    "execution": {
     "iopub.execute_input": "2025-02-11T16:07:23.152819Z",
     "iopub.status.busy": "2025-02-11T16:07:23.152486Z",
     "iopub.status.idle": "2025-02-11T16:07:25.400497Z",
     "shell.execute_reply": "2025-02-11T16:07:25.399464Z"
    },
    "papermill": {
     "duration": 2.253575,
     "end_time": "2025-02-11T16:07:25.402346",
     "exception": false,
     "start_time": "2025-02-11T16:07:23.148771",
     "status": "completed"
    },
    "tags": []
   },
   "outputs": [
    {
     "name": "stdout",
     "output_type": "stream",
     "text": [
      "Cloning into 'frame_classification'...\r\n",
      "remote: Enumerating objects: 331, done.\u001b[K\r\n",
      "remote: Counting objects: 100% (331/331), done.\u001b[K\r\n",
      "remote: Compressing objects: 100% (255/255), done.\u001b[K\r\n",
      "remote: Total 331 (delta 149), reused 252 (delta 74), pack-reused 0 (from 0)\u001b[K\r\n",
      "Receiving objects: 100% (331/331), 9.60 MiB | 19.63 MiB/s, done.\r\n",
      "Resolving deltas: 100% (149/149), done.\r\n"
     ]
    }
   ],
   "source": [
    "!git clone https://github.com/rmundra22/frame_classification.git"
   ]
  },
  {
   "cell_type": "code",
   "execution_count": 6,
   "id": "11479ea6",
   "metadata": {
    "execution": {
     "iopub.execute_input": "2025-02-11T16:07:25.411218Z",
     "iopub.status.busy": "2025-02-11T16:07:25.410909Z",
     "iopub.status.idle": "2025-02-11T16:07:25.529784Z",
     "shell.execute_reply": "2025-02-11T16:07:25.528599Z"
    },
    "papermill": {
     "duration": 0.125353,
     "end_time": "2025-02-11T16:07:25.531742",
     "exception": false,
     "start_time": "2025-02-11T16:07:25.406389",
     "status": "completed"
    },
    "tags": []
   },
   "outputs": [
    {
     "name": "stdout",
     "output_type": "stream",
     "text": [
      "\u001b[0m\u001b[01;34mframe_classification\u001b[0m/  __notebook__.ipynb\r\n"
     ]
    }
   ],
   "source": [
    "%ls"
   ]
  },
  {
   "cell_type": "code",
   "execution_count": 7,
   "id": "01dc49ba",
   "metadata": {
    "execution": {
     "iopub.execute_input": "2025-02-11T16:07:25.540449Z",
     "iopub.status.busy": "2025-02-11T16:07:25.540135Z",
     "iopub.status.idle": "2025-02-11T16:07:29.878055Z",
     "shell.execute_reply": "2025-02-11T16:07:29.876589Z"
    },
    "papermill": {
     "duration": 4.344836,
     "end_time": "2025-02-11T16:07:29.880488",
     "exception": false,
     "start_time": "2025-02-11T16:07:25.535652",
     "status": "completed"
    },
    "tags": []
   },
   "outputs": [
    {
     "name": "stdout",
     "output_type": "stream",
     "text": [
      "Traceback (most recent call last):\r\n",
      "  File \"/kaggle/working/frame_classification/src/inference.py\", line 4, in <module>\r\n",
      "    import av\r\n",
      "ModuleNotFoundError: No module named 'av'\r\n"
     ]
    }
   ],
   "source": [
    "# enter valid video url: pip install av\n",
    "!python /kaggle/working/frame_classification/src/inference.py --url \"/kaggle/working/frame_classification/artifacts/football.MP4\" --model_path \"/kaggle/working/saved_models/best_model_cnndeepwithcse.pth\""
   ]
  },
  {
   "cell_type": "markdown",
   "id": "00dd06c3",
   "metadata": {
    "papermill": {
     "duration": 0.005584,
     "end_time": "2025-02-11T16:07:29.892149",
     "exception": false,
     "start_time": "2025-02-11T16:07:29.886565",
     "status": "completed"
    },
    "tags": []
   },
   "source": [
    "## Experimental Setup\n",
    "\n",
    "> Dataset Details\n",
    "\n",
    "* Training Dataset ~25k Images\n",
    "* Test Dataset ~500 Images\n",
    "\n",
    "> Hyperparameters\n",
    "* BATCH_SIZE = 32\n",
    "* LEARNING_RATE = 1e-4\n",
    "* NUM_EPOCHS = 15\n",
    "* DEVICE = \"cuda\" if torch.cuda.is_available() else \"cpu\"\n",
    "* LR_STEP_SIZE = 1\n",
    "* LR_GAMMA = 0.9\n",
    "* NUM_WORKERS = 12\n",
    "\n",
    "> Experiments\n",
    "1. 40% training data, data-augmentation, early-stop-activated, cnn-deep with cross-entropy loss\n",
    "2. 100% training data, data-augmentation, early-stop-activated, cnn-deep with cross-entropy loss\n",
    "3. 100% training data, data-augmentation, early-stop-activated, cnn-deep-with-se with cross-entropy loss\n",
    "4. 100% training data, data-augmentation, early-stop-activated, cnn-deep with cross-entropy loss"
   ]
  },
  {
   "cell_type": "code",
   "execution_count": 8,
   "id": "2b245093",
   "metadata": {
    "execution": {
     "iopub.execute_input": "2025-02-11T16:07:29.900990Z",
     "iopub.status.busy": "2025-02-11T16:07:29.900617Z",
     "iopub.status.idle": "2025-02-11T16:07:52.487293Z",
     "shell.execute_reply": "2025-02-11T16:07:52.486072Z"
    },
    "papermill": {
     "duration": 22.593513,
     "end_time": "2025-02-11T16:07:52.489610",
     "exception": false,
     "start_time": "2025-02-11T16:07:29.896097",
     "status": "completed"
    },
    "tags": []
   },
   "outputs": [
    {
     "name": "stdout",
     "output_type": "stream",
     "text": [
      "2025-02-11 16:07:38.530131: E external/local_xla/xla/stream_executor/cuda/cuda_fft.cc:485] Unable to register cuFFT factory: Attempting to register factory for plugin cuFFT when one has already been registered\r\n",
      "2025-02-11 16:07:38.736944: E external/local_xla/xla/stream_executor/cuda/cuda_dnn.cc:8454] Unable to register cuDNN factory: Attempting to register factory for plugin cuDNN when one has already been registered\r\n",
      "2025-02-11 16:07:38.795707: E external/local_xla/xla/stream_executor/cuda/cuda_blas.cc:1452] Unable to register cuBLAS factory: Attempting to register factory for plugin cuBLAS when one has already been registered\r\n",
      "Traceback (most recent call last):\r\n",
      "  File \"/kaggle/working/frame_classification/src/train.py\", line 292, in <module>\r\n",
      "    main()\r\n",
      "  File \"/kaggle/working/frame_classification/src/train.py\", line 129, in main\r\n",
      "    global_dataset = ImageFolder(root=Config.DATA_PATH_TRAIN, transform=transform_train)\r\n",
      "  File \"/usr/local/lib/python3.10/dist-packages/torchvision/datasets/folder.py\", line 328, in __init__\r\n",
      "    super().__init__(\r\n",
      "  File \"/usr/local/lib/python3.10/dist-packages/torchvision/datasets/folder.py\", line 149, in __init__\r\n",
      "    classes, class_to_idx = self.find_classes(self.root)\r\n",
      "  File \"/usr/local/lib/python3.10/dist-packages/torchvision/datasets/folder.py\", line 234, in find_classes\r\n",
      "    return find_classes(directory)\r\n",
      "  File \"/usr/local/lib/python3.10/dist-packages/torchvision/datasets/folder.py\", line 41, in find_classes\r\n",
      "    classes = sorted(entry.name for entry in os.scandir(directory) if entry.is_dir())\r\n",
      "FileNotFoundError: [Errno 2] No such file or directory: '/kaggle/working/data/assignment/train'\r\n"
     ]
    }
   ],
   "source": [
    "!python /kaggle/working/frame_classification/src/train.py"
   ]
  },
  {
   "cell_type": "code",
   "execution_count": 9,
   "id": "c4978312",
   "metadata": {
    "execution": {
     "iopub.execute_input": "2025-02-11T16:07:52.499275Z",
     "iopub.status.busy": "2025-02-11T16:07:52.498960Z",
     "iopub.status.idle": "2025-02-11T16:07:59.296478Z",
     "shell.execute_reply": "2025-02-11T16:07:59.295266Z"
    },
    "papermill": {
     "duration": 6.804871,
     "end_time": "2025-02-11T16:07:59.298851",
     "exception": false,
     "start_time": "2025-02-11T16:07:52.493980",
     "status": "completed"
    },
    "tags": []
   },
   "outputs": [
    {
     "name": "stdout",
     "output_type": "stream",
     "text": [
      "Traceback (most recent call last):\r\n",
      "  File \"/kaggle/working/frame_classification/src/test.py\", line 181, in <module>\r\n",
      "    main()\r\n",
      "  File \"/kaggle/working/frame_classification/src/test.py\", line 177, in main\r\n",
      "    results = test(args)\r\n",
      "  File \"/kaggle/working/frame_classification/src/test.py\", line 36, in test\r\n",
      "    test_dataset = ImageFolder(\r\n",
      "  File \"/usr/local/lib/python3.10/dist-packages/torchvision/datasets/folder.py\", line 328, in __init__\r\n",
      "    super().__init__(\r\n",
      "  File \"/usr/local/lib/python3.10/dist-packages/torchvision/datasets/folder.py\", line 149, in __init__\r\n",
      "    classes, class_to_idx = self.find_classes(self.root)\r\n",
      "  File \"/usr/local/lib/python3.10/dist-packages/torchvision/datasets/folder.py\", line 234, in find_classes\r\n",
      "    return find_classes(directory)\r\n",
      "  File \"/usr/local/lib/python3.10/dist-packages/torchvision/datasets/folder.py\", line 41, in find_classes\r\n",
      "    classes = sorted(entry.name for entry in os.scandir(directory) if entry.is_dir())\r\n",
      "FileNotFoundError: [Errno 2] No such file or directory: '/kaggle/working/data/assignment/test/'\r\n"
     ]
    }
   ],
   "source": [
    "!python /kaggle/working/frame_classification/src/test.py --model_path \"/kaggle/working/saved_models/best_model_cnndeepwithcse.pth\""
   ]
  },
  {
   "cell_type": "code",
   "execution_count": 10,
   "id": "ec4d693e",
   "metadata": {
    "execution": {
     "iopub.execute_input": "2025-02-11T16:07:59.310238Z",
     "iopub.status.busy": "2025-02-11T16:07:59.309865Z",
     "iopub.status.idle": "2025-02-11T16:07:59.431713Z",
     "shell.execute_reply": "2025-02-11T16:07:59.430695Z"
    },
    "papermill": {
     "duration": 0.129129,
     "end_time": "2025-02-11T16:07:59.433570",
     "exception": false,
     "start_time": "2025-02-11T16:07:59.304441",
     "status": "completed"
    },
    "tags": []
   },
   "outputs": [
    {
     "name": "stdout",
     "output_type": "stream",
     "text": [
      "\tzip warning: name not matched: /kaggle/working/runs\r\n",
      "\r\n",
      "zip error: Nothing to do! (try: zip -r runs_cnn_deep_with_cse_100p.zip . -i /kaggle/working/runs)\r\n"
     ]
    }
   ],
   "source": [
    "!zip -r runs_cnn_deep_with_cse_100p.zip /kaggle/working/runs\n",
    "# !zip -r runs_cnn_deep_100p.zip /kaggle/working/artifacts\n",
    "# !zip -r runs_cnn_deep_100p.zip /kaggle/working/saved_models"
   ]
  },
  {
   "cell_type": "code",
   "execution_count": null,
   "id": "a5cda653",
   "metadata": {
    "papermill": {
     "duration": 0.00385,
     "end_time": "2025-02-11T16:07:59.441827",
     "exception": false,
     "start_time": "2025-02-11T16:07:59.437977",
     "status": "completed"
    },
    "tags": []
   },
   "outputs": [],
   "source": []
  }
 ],
 "metadata": {
  "kaggle": {
   "accelerator": "none",
   "dataSources": [],
   "dockerImageVersionId": 30886,
   "isGpuEnabled": false,
   "isInternetEnabled": true,
   "language": "python",
   "sourceType": "notebook"
  },
  "kernelspec": {
   "display_name": "Python 3",
   "language": "python",
   "name": "python3"
  },
  "language_info": {
   "codemirror_mode": {
    "name": "ipython",
    "version": 3
   },
   "file_extension": ".py",
   "mimetype": "text/x-python",
   "name": "python",
   "nbconvert_exporter": "python",
   "pygments_lexer": "ipython3",
   "version": "3.10.12"
  },
  "papermill": {
   "default_parameters": {},
   "duration": 39.529686,
   "end_time": "2025-02-11T16:07:59.863968",
   "environment_variables": {},
   "exception": null,
   "input_path": "__notebook__.ipynb",
   "output_path": "__notebook__.ipynb",
   "parameters": {},
   "start_time": "2025-02-11T16:07:20.334282",
   "version": "2.6.0"
  }
 },
 "nbformat": 4,
 "nbformat_minor": 5
}
